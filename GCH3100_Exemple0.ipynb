{
  "cells": [
    {
      "cell_type": "markdown",
      "metadata": {
        "id": "TLungASQ7k96"
      },
      "source": [
        " <div><left><img src=\"https://upload.wikimedia.org/wikipedia/fr/9/99/Logo_Polytechnique_Montr%C3%A9al.png\"\n",
        "width=\"400\"/></div>\n",
        "\n",
        "#   <left> GCH3100A Opérations unitaires — Exemple 01\n",
        "### <left> **Antony Gareau-Lajoie, CPI - Chargé de travaux pratiques**\n",
        "### <left> Département de génie chimique\n",
        "### <left> Polytechnique Montréal"
      ]
    },
    {
      "cell_type": "code",
      "execution_count": 1,
      "metadata": {},
      "outputs": [
        {
          "name": "stdout",
          "output_type": "stream",
          "text": [
            "Note: you may need to restart the kernel to use updated packages.\n",
            "Note: you may need to restart the kernel to use updated packages.\n",
            "Note: you may need to restart the kernel to use updated packages.\n",
            "Note: you may need to restart the kernel to use updated packages.\n",
            "Note: you may need to restart the kernel to use updated packages.\n"
          ]
        },
        {
          "data": {
            "application/vnd.jupyter.widget-view+json": {
              "model_id": "a43d3a54cc584065beae4500bc66ad79",
              "version_major": 2,
              "version_minor": 0
            },
            "text/plain": [
              "interactive(children=(FloatSlider(value=5.0, description='c1', max=10.0, step=0.5), FloatSlider(value=5.0, des…"
            ]
          },
          "metadata": {},
          "output_type": "display_data"
        }
      ],
      "source": [
        "# @title Click `Show code` in the code cell. { display-mode: \"form\" }\n",
        "\n",
        "# INSTALLATION\n",
        "%pip install -q kaleido\n",
        "%pip install -q ipywidgets\n",
        "%pip install -q pint\n",
        "%pip install -q plotly\n",
        "%pip install -q control\n",
        "\n",
        "\n",
        "# IMPORTATION DES LIBRAIRIES\n",
        "import numpy as np\n",
        "import plotly.graph_objects as go\n",
        "import plotly.io as pio\n",
        "from   ipywidgets import interactive\n",
        "\n",
        "# CONFIGURATION\n",
        "pio.templates.default = \"plotly_white\"\n",
        "\n",
        "# RÉSOLUTION SYMBOLIQUE\n",
        "\n",
        "# RÉSOLUTION NUMÉRIQUE\n",
        "\n",
        "# PRÉPARATION POUR VISUALISATION\n",
        "def f(x, y, c1, c2):\n",
        "    return c1*x + y**c2\n",
        "\n",
        "# VISUALISATION INTERACTIVE\n",
        "def graphique_interactif(c1, c2):\n",
        "\n",
        "    x_vecteur = np.linspace(0,10,100)\n",
        "    y_vecteur = np.linspace(0,10,100)\n",
        "    z_matrice = np.empty((0, len(y_vecteur)))\n",
        "    for x in x_vecteur :\n",
        "        z_liste = []\n",
        "        for y in y_vecteur :\n",
        "            z_liste.append(f(x, y, c1, c2))\n",
        "        z_matrice = np.append(z_matrice,np.array([z_liste]),axis=0)\n",
        "\n",
        "    # VISUALISATION\n",
        "    fig = go.Figure(data = go.Contour(x=x_vecteur, y=y_vecteur, z=z_matrice,\n",
        "                                      contours=dict(start=0,end=100)))\n",
        "\n",
        "    fig.update_layout(dict(title=dict(text=\"Visualisation en courbes de niveaux\",\n",
        "                                    font_size=16),\n",
        "\n",
        "                        xaxis=dict(title=\"x2 [-]\",\n",
        "                                    titlefont_size=16,\n",
        "                                    linecolor=\"black\",\n",
        "                                    showline=True,\n",
        "                                    mirror=True,\n",
        "                                    linewidth=1,\n",
        "                                    gridcolor='darkgray',\n",
        "                                    gridwidth=1,\n",
        "                                    zeroline=False,\n",
        "                                    dtick = 2\n",
        "                                    ),\n",
        "\n",
        "                        yaxis=dict(title=\"x1 [-]\",\n",
        "                                    titlefont_size=16,\n",
        "                                    linecolor=\"black\",\n",
        "                                    showline=True,\n",
        "                                    mirror=True,\n",
        "                                    linewidth=1,\n",
        "                                    gridcolor='darkgray',\n",
        "                                    gridwidth=1,\n",
        "                                    zeroline=False,\n",
        "                                    dtick = 2\n",
        "                                    ),\n",
        "\n",
        "                        coloraxis=dict(colorbar_title_text=\"x3\"),\n",
        "\n",
        "                        width=350,\n",
        "                        height=350,\n",
        "    ))\n",
        "\n",
        "    fig.show(renderer=\"svg\")\n",
        "\n",
        "\n",
        "interactive_plot = interactive(graphique_interactif, c1=(0.0, 10.0, 0.5), c2=(0.0, 10, 0.5))\n",
        "output = interactive_plot.children[-1]\n",
        "output.layout.height = '350px'\n",
        "interactive_plot"
      ]
    },
    {
      "cell_type": "code",
      "execution_count": 2,
      "metadata": {},
      "outputs": [
        {
          "name": "stdout",
          "output_type": "stream",
          "text": [
            "Note: you may need to restart the kernel to use updated packages.\n",
            "Note: you may need to restart the kernel to use updated packages.\n",
            "Note: you may need to restart the kernel to use updated packages.\n",
            "Note: you may need to restart the kernel to use updated packages.\n",
            "Note: you may need to restart the kernel to use updated packages.\n"
          ]
        },
        {
          "data": {
            "application/vnd.jupyter.widget-view+json": {
              "model_id": "e5992bee5c2a4073a448e24f70969024",
              "version_major": 2,
              "version_minor": 0
            },
            "text/plain": [
              "interactive(children=(FloatSlider(value=0.0, description='K', max=1.0, min=-1.0), FloatSlider(value=5.0, descr…"
            ]
          },
          "metadata": {},
          "output_type": "display_data"
        }
      ],
      "source": [
        "# @title Click `Show code` in the code cell. { display-mode: \"form\" }\n",
        "\n",
        "# INSTALLATION\n",
        "%pip install -q kaleido\n",
        "%pip install -q ipywidgets\n",
        "%pip install -q pint\n",
        "%pip install -q plotly\n",
        "%pip install -q control\n",
        "\n",
        "# IMPORTATION DES LIBRAIRIES\n",
        "import numpy as np\n",
        "import control as ct\n",
        "import plotly.graph_objects as go\n",
        "import plotly.io as pio\n",
        "from   ipywidgets import interactive\n",
        "from scipy import signal\n",
        "\n",
        "# CONFIGURATION\n",
        "pio.templates.default = \"plotly_white\"\n",
        "\n",
        "# RÉSOLUTION SYMBOLIQUE\n",
        "\n",
        "# RÉSOLUTION NUMÉRIQUE\n",
        "\n",
        "# PRÉPARATION POUR VISUALISATION\n",
        "def Systeme(x_vecteur, c1, c2, c3):\n",
        "    \"\"\"\n",
        "                    K   \n",
        "    G = -----------------------------\n",
        "        tau**2  +   2*tau*zeta  +   1\n",
        "    \"\"\"\n",
        "    # Paramètres\n",
        "    K    = c1\n",
        "    tau  = c2\n",
        "    zeta = c3\n",
        "\n",
        "    # Fonction de transfert\n",
        "    G = signal.lti([K], [tau**2, 2*tau*zeta, 1])\n",
        "\n",
        "    # Simulation\n",
        "    _, y_vecteur = signal.step(G,T=x_vecteur)\n",
        "    \n",
        "    return y_vecteur\n",
        "\n",
        "# VISUALISATION INTERACTIVE\n",
        "def graphique_interactif(K, tau, zeta):\n",
        "    x_vecteur = np.linspace(0,100,1000)\n",
        "    y_vecteur = Systeme(x_vecteur, K, tau, zeta)\n",
        "\n",
        "    # VISUALISATION\n",
        "    fig = go.Figure(go.Scatter(x=x_vecteur, y=y_vecteur))\n",
        "\n",
        "    fig.update_layout(dict(title=dict(text=\"Effet des paramètres<br>d'une fonction de transfert\",\n",
        "                                    font_size=16),\n",
        "\n",
        "                        xaxis=dict(title=\"x2 [-]\",\n",
        "                                    titlefont_size=16,\n",
        "                                    linecolor=\"black\",\n",
        "                                    showline=True,\n",
        "                                    mirror=True,\n",
        "                                    linewidth=1,\n",
        "                                    gridcolor='darkgray',\n",
        "                                    gridwidth=1,\n",
        "                                    zeroline=False,\n",
        "                                    #dtick = 2\n",
        "                                    ),\n",
        "\n",
        "                        yaxis=dict(title=\"x1 [-]\",\n",
        "                                    titlefont_size=16,\n",
        "                                    linecolor=\"black\",\n",
        "                                    showline=True,\n",
        "                                    mirror=True,\n",
        "                                    linewidth=1,\n",
        "                                    gridcolor='darkgray',\n",
        "                                    gridwidth=1,\n",
        "                                    zeroline=False,\n",
        "                                    #dtick = 2\n",
        "                                    ),\n",
        "\n",
        "                        coloraxis=dict(colorbar_title_text=\"x3\"),\n",
        "\n",
        "                        width=350,\n",
        "                        height=350,\n",
        "    ))\n",
        "\n",
        "    fig.show(renderer=\"svg\")\n",
        "\n",
        "interactive_plot = interactive(graphique_interactif, K=(-1, 1, 0.1),\n",
        "                                                     tau=(0.1, 10.0, 0.1), \n",
        "                                                     zeta=(-0.1, 2, 0.1))\n",
        "output = interactive_plot.children[-1]\n",
        "output.layout.height = '350px'\n",
        "interactive_plot"
      ]
    }
  ],
  "metadata": {
    "colab": {
      "provenance": [],
      "toc_visible": true
    },
    "kernelspec": {
      "display_name": "Python 3",
      "name": "python3"
    },
    "language_info": {
      "codemirror_mode": {
        "name": "ipython",
        "version": 3
      },
      "file_extension": ".py",
      "mimetype": "text/x-python",
      "name": "python",
      "nbconvert_exporter": "python",
      "pygments_lexer": "ipython3",
      "version": "3.9.13"
    }
  },
  "nbformat": 4,
  "nbformat_minor": 0
}

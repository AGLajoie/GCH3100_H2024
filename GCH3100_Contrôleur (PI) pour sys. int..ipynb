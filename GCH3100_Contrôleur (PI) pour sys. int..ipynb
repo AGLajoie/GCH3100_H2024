{
  "cells": [
    {
      "cell_type": "markdown",
      "metadata": {
        "id": "TLungASQ7k96"
      },
      "source": [
        " <div><left><img src=\"https://upload.wikimedia.org/wikipedia/fr/9/99/Logo_Polytechnique_Montr%C3%A9al.png\"\n",
        "width=\"400\"/></div>\n",
        "\n",
        "#   <left> GCH3100A Opérations unitaires — Fonction de transfert d'ordre 2\n",
        "### <left> **Antony Gareau-Lajoie, CPI - Chargé de travaux pratiques**\n",
        "### <left> Département de génie chimique\n",
        "### <left> Polytechnique Montréal"
      ]
    },
    {
      "cell_type": "code",
      "execution_count": 2,
      "metadata": {},
      "outputs": [],
      "source": [
        "# @title Click `Show code` in the code cell. { display-mode: \"form\" }\n",
        "\n",
        "# INSTALLATION\n",
        "# %pip install -q kaleido\n",
        "# %pip install -q ipywidgets\n",
        "# %pip install -q pint\n",
        "# %pip install -q plotly\n",
        "# %pip install -q control\n",
        "\n",
        "# IMPORTATION DES LIBRAIRIES\n",
        "import numpy as np\n",
        "import control as ct\n",
        "import plotly.graph_objects as go\n",
        "import plotly.io as pio\n",
        "from scipy import signal\n",
        "import sympy as sp\n",
        "s = sp.symbols(\"s\")\n",
        "\n",
        "# CONFIGURATION\n",
        "pio.templates.default = \"plotly_white\"\n",
        "\n",
        "# SYSTÈME\n",
        "def Visualisation(num, den, dom_x):\n",
        "    x_vecteur = np.linspace(0,dom_x,1000)\n",
        "\n",
        "    # Fonction de transfert\n",
        "    G = signal.lti(num, \n",
        "                   den)\n",
        "\n",
        "    # Simulation\n",
        "    _, y_vecteur = signal.step(G,T=x_vecteur)\n",
        "\n",
        "    # VISUALISATION\n",
        "    fig = go.Figure(go.Scatter(x=x_vecteur, y=y_vecteur))\n",
        "\n",
        "    fig.update_layout(dict(title=dict(text=\"Fonction de transfert\",\n",
        "                                    font_size=16),\n",
        "\n",
        "                        xaxis=dict(title=\"Temps [s]\",\n",
        "                                    titlefont_size=16,\n",
        "                                    linecolor=\"black\",\n",
        "                                    showline=True,\n",
        "                                    mirror=True,\n",
        "                                    linewidth=1,\n",
        "                                    gridcolor='darkgray',\n",
        "                                    gridwidth=1,\n",
        "                                    zeroline=False,\n",
        "                                    #dtick = 2\n",
        "                                    ),\n",
        "\n",
        "                        yaxis=dict(title=\"Réponse [-]\",\n",
        "                                    titlefont_size=16,\n",
        "                                    linecolor=\"black\",\n",
        "                                    showline=True,\n",
        "                                    mirror=True,\n",
        "                                    linewidth=1,\n",
        "                                    gridcolor='darkgray',\n",
        "                                    gridwidth=1,\n",
        "                                    zeroline=False,\n",
        "                                    #dtick = 2\n",
        "                                    ),\n",
        "\n",
        "                        coloraxis=dict(colorbar_title_text=\"x3\"),\n",
        "\n",
        "                        width=350,\n",
        "                        height=350,\n",
        "    ))\n",
        "\n",
        "\n",
        "    fig.show()"
      ]
    },
    {
      "cell_type": "code",
      "execution_count": null,
      "metadata": {},
      "outputs": [],
      "source": [
        "# b)\n",
        "num = (s+1)\n",
        "display(num.expand())\n",
        "\n",
        "den = (5*s**2+s+1)*(.5*s+1)\n",
        "display(den.expand())\n",
        "\n",
        "num = [1, 1]\n",
        "den = [2.5, 5.5, 1.5, 1]\n",
        "\n",
        "Visualisation(num, den,50)"
      ]
    }
  ],
  "metadata": {
    "colab": {
      "provenance": [],
      "toc_visible": true
    },
    "kernelspec": {
      "display_name": "Python 3",
      "name": "python3"
    },
    "language_info": {
      "codemirror_mode": {
        "name": "ipython",
        "version": 3
      },
      "file_extension": ".py",
      "mimetype": "text/x-python",
      "name": "python",
      "nbconvert_exporter": "python",
      "pygments_lexer": "ipython3",
      "version": "3.9.13"
    }
  },
  "nbformat": 4,
  "nbformat_minor": 0
}
